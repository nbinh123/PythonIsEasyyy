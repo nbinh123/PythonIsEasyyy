{
 "cells": [
  {
   "cell_type": "code",
   "execution_count": null,
   "id": "2aa0b592-ebab-4424-96db-d319c1f18dc4",
   "metadata": {},
   "outputs": [],
   "source": [
    "# bài 6 -----------------------------------------------------------------------------------------------------------------------------------------------"
   ]
  },
  {
   "cell_type": "code",
   "execution_count": 26,
   "id": "62427297-fddf-4a5b-879e-902d549b5552",
   "metadata": {},
   "outputs": [],
   "source": [
    "from math import *"
   ]
  },
  {
   "cell_type": "code",
   "execution_count": 27,
   "id": "5d1cf2d2-1a4f-442a-9a7d-51c7b329b1dd",
   "metadata": {},
   "outputs": [
    {
     "name": "stdin",
     "output_type": "stream",
     "text": [
      "Nhập bán kính r:  4\n",
      "Nhập chiều cao h:  3\n"
     ]
    }
   ],
   "source": [
    "r = float(input(\"Nhập bán kính r: \"))\n",
    "h = float(input(\"Nhập chiều cao h: \"))"
   ]
  },
  {
   "cell_type": "code",
   "execution_count": 28,
   "id": "631171bf-8e49-40ba-9c49-69e1ec097eb2",
   "metadata": {},
   "outputs": [],
   "source": [
    "V = math.pi * r**2 * h"
   ]
  },
  {
   "cell_type": "code",
   "execution_count": 29,
   "id": "93e2d769-5829-4816-8256-0e2333fd2c4d",
   "metadata": {},
   "outputs": [
    {
     "name": "stdout",
     "output_type": "stream",
     "text": [
      "Thể tích hình trụ là: 150.79644737231007\n"
     ]
    }
   ],
   "source": [
    "print(\"Thể tích hình trụ là:\", V)"
   ]
  },
  {
   "cell_type": "code",
   "execution_count": null,
   "id": "f1e5bc38-89ac-451a-b197-0695260614ef",
   "metadata": {},
   "outputs": [],
   "source": [
    "# bài 7 -----------------------------------------------------------------------------------------------------------------------------------------------"
   ]
  },
  {
   "cell_type": "code",
   "execution_count": 9,
   "id": "63c28807-9040-4366-b08e-d6c3654e995d",
   "metadata": {},
   "outputs": [],
   "source": [
    "def deg_to_rad(deg):\n",
    "    return deg * math.pi / 180"
   ]
  },
  {
   "cell_type": "code",
   "execution_count": 18,
   "id": "c806b5ad-b31a-4953-8303-c7b8d5d53b27",
   "metadata": {},
   "outputs": [
    {
     "name": "stdin",
     "output_type": "stream",
     "text": [
      "Nhập cạnh a:  30\n",
      "Nhập cạnh b:  30\n",
      "Nhập cạnh c:  30\n",
      "Nhập góc A (độ):  60\n",
      "Nhập góc B (độ):  60\n",
      "Nhập góc C (độ):  60\n"
     ]
    }
   ],
   "source": [
    "a = float(input(\"Nhập cạnh a: \"))\n",
    "b = float(input(\"Nhập cạnh b: \"))\n",
    "c = float(input(\"Nhập cạnh c: \"))\n",
    "\n",
    "A_deg = float(input(\"Nhập góc A (độ): \"))\n",
    "B_deg = float(input(\"Nhập góc B (độ): \"))\n",
    "C_deg = float(input(\"Nhập góc C (độ): \"))"
   ]
  },
  {
   "cell_type": "code",
   "execution_count": 19,
   "id": "208e8e99-94de-4b60-bd1d-41c2bb8e75a3",
   "metadata": {},
   "outputs": [],
   "source": [
    "A = deg_to_rad(A_deg)\n",
    "B = deg_to_rad(B_deg)\n",
    "C = deg_to_rad(C_deg)"
   ]
  },
  {
   "cell_type": "code",
   "execution_count": 20,
   "id": "6b109728-37eb-48d7-9af7-cd00db508962",
   "metadata": {},
   "outputs": [
    {
     "name": "stdout",
     "output_type": "stream",
     "text": [
      "Diện tích tam giác là: 389.71143170299734\n"
     ]
    }
   ],
   "source": [
    "S = 0.5 * a * b * math.sin(C)\n",
    "\n",
    "print(\"Diện tích tam giác là:\", S)"
   ]
  },
  {
   "cell_type": "code",
   "execution_count": 13,
   "id": "64edc99b-b241-4e5a-be81-f42445e4861c",
   "metadata": {},
   "outputs": [],
   "source": [
    "# bài 8 -----------------------------------------------------------------------------------------------------------------------------------------------"
   ]
  },
  {
   "cell_type": "code",
   "execution_count": 16,
   "id": "bb9db9bf-532e-4e3c-b242-7a6a1c5a24a3",
   "metadata": {},
   "outputs": [
    {
     "name": "stdin",
     "output_type": "stream",
     "text": [
      "Nhập cạnh tam giác đều:  30\n"
     ]
    }
   ],
   "source": [
    "a = float(input(\"Nhập cạnh tam giác đều: \"))"
   ]
  },
  {
   "cell_type": "code",
   "execution_count": 17,
   "id": "71bd0334-5c6d-441d-8956-97999a78f0a3",
   "metadata": {},
   "outputs": [
    {
     "name": "stdout",
     "output_type": "stream",
     "text": [
      "Diện tích tam giác đều (Heron) là: 389.7114317029974\n"
     ]
    }
   ],
   "source": [
    "# Nửa chu vi\n",
    "p = (3 * a) / 2\n",
    "# Công thức Heron\n",
    "S = math.sqrt(p * (p - a) * (p - a) * (p - a))\n",
    "print(\"Diện tích tam giác đều (Heron) là:\", S)"
   ]
  },
  {
   "cell_type": "code",
   "execution_count": 21,
   "id": "8674fda2-ae78-4868-9f3e-516e099c5fd6",
   "metadata": {},
   "outputs": [],
   "source": [
    "# tính diện tích bằng 2 cách cho 2 kết quả gần giống nhau-.-"
   ]
  },
  {
   "cell_type": "code",
   "execution_count": 22,
   "id": "e58f95fe-619d-4230-823c-9499fc31d3da",
   "metadata": {},
   "outputs": [],
   "source": [
    "# bài 10 -----------------------------------------------------------------------------------------------------------------------------------------------"
   ]
  },
  {
   "cell_type": "code",
   "execution_count": 23,
   "id": "16b41cf9-2efd-478c-b6d5-e09c028c2f30",
   "metadata": {},
   "outputs": [
    {
     "name": "stdin",
     "output_type": "stream",
     "text": [
      "Nhập chiều rộng (m):  20\n",
      "Nhập chiều dài (m):  30\n"
     ]
    }
   ],
   "source": [
    "chieu_rong = float(input(\"Nhập chiều rộng (m): \"))\n",
    "chieu_dai = float(input(\"Nhập chiều dài (m): \"))"
   ]
  },
  {
   "cell_type": "code",
   "execution_count": 25,
   "id": "789b1463-6491-406d-b12a-1f4dce4b0506",
   "metadata": {},
   "outputs": [
    {
     "name": "stdout",
     "output_type": "stream",
     "text": [
      "Diện tích căn phòng là: 600.0\n"
     ]
    }
   ],
   "source": [
    "dien_tich = chieu_rong * chieu_dai\n",
    "\n",
    "print(\"Diện tích căn phòng là:\", dien_tich)"
   ]
  },
  {
   "cell_type": "code",
   "execution_count": 30,
   "id": "b1d9d0ec-f775-42a9-9f1e-a7c46aeafea6",
   "metadata": {},
   "outputs": [],
   "source": [
    "# bài 11 -----------------------------------------------------------------------------------------------------------------------------------------------"
   ]
  },
  {
   "cell_type": "code",
   "execution_count": 32,
   "id": "3caf57a5-0be6-4724-abde-2727ec9774d8",
   "metadata": {},
   "outputs": [
    {
     "name": "stdin",
     "output_type": "stream",
     "text": [
      "Nhập chiều dài cánh đồng (m):  20\n",
      "Nhập chiều rộng cánh đồng (m):  30\n"
     ]
    }
   ],
   "source": [
    "chieu_dai = float(input(\"Nhập chiều dài cánh đồng (m): \"))\n",
    "chieu_rong = float(input(\"Nhập chiều rộng cánh đồng (m): \"))"
   ]
  },
  {
   "cell_type": "code",
   "execution_count": 33,
   "id": "d431f4e6-25d7-4810-b500-a05bce31607f",
   "metadata": {},
   "outputs": [],
   "source": [
    "dien_tich_m2 = chieu_dai * chieu_rong\n",
    "\n",
    "dien_tich_mau_anh = dien_tich_m2 / 43560"
   ]
  },
  {
   "cell_type": "code",
   "execution_count": 34,
   "id": "385afadb-7387-43bc-b2fb-36d3b4ebc4b4",
   "metadata": {},
   "outputs": [
    {
     "name": "stdout",
     "output_type": "stream",
     "text": [
      "Diện tích cánh đồng là: 0.013774104683195593 mẫu Anh\n"
     ]
    }
   ],
   "source": [
    "print(\"Diện tích cánh đồng là:\", dien_tich_mau_anh, \"mẫu Anh\")"
   ]
  },
  {
   "cell_type": "code",
   "execution_count": 35,
   "id": "4d1390bb-627b-4e27-ad4d-e5df96f54adf",
   "metadata": {},
   "outputs": [],
   "source": [
    "# bài 12 -----------------------------------------------------------------------------------------------------------------------------------------------"
   ]
  },
  {
   "cell_type": "code",
   "execution_count": 36,
   "id": "9cda41d1-130b-4530-95c2-c6d8fc496f80",
   "metadata": {},
   "outputs": [
    {
     "name": "stdin",
     "output_type": "stream",
     "text": [
      "Nhập chi phí bữa ăn:  200\n"
     ]
    }
   ],
   "source": [
    "tien_an = float(input(\"Nhập chi phí bữa ăn: \"))\n",
    "\n",
    "tien_thue = tien_an * 0.05\n",
    "tien_boa = tien_an * 0.18\n",
    "\n",
    "tong_tien = tien_an + tien_thue + tien_boa"
   ]
  },
  {
   "cell_type": "code",
   "execution_count": 41,
   "id": "2d26e93d-6728-4f06-927e-d092423d48fe",
   "metadata": {},
   "outputs": [
    {
     "name": "stdout",
     "output_type": "stream",
     "text": [
      "Tiền ăn:  200.0\n",
      "Thuế (5%):  10.0\n",
      "Tiền boa (18%) 36.0\n",
      "Tổng cộng:  246.0\n"
     ]
    }
   ],
   "source": [
    "print(\"Tiền ăn: \",tien_an)\n",
    "print(\"Thuế (5%): \", tien_thue)\n",
    "print(\"Tiền boa (18%)\", tien_boa)\n",
    "print(\"Tổng cộng: \", tong_tien)"
   ]
  },
  {
   "cell_type": "code",
   "execution_count": 38,
   "id": "76367f77-21d6-4b40-9f10-1029fb8676c8",
   "metadata": {},
   "outputs": [],
   "source": [
    "# bài 13 -----------------------------------------------------------------------------------------------------------------------------------------------"
   ]
  },
  {
   "cell_type": "code",
   "execution_count": 39,
   "id": "1e50cc45-a30e-4bb2-84c6-56182ffc7c95",
   "metadata": {},
   "outputs": [
    {
     "name": "stdin",
     "output_type": "stream",
     "text": [
      "Nhập số nguyên dương n:  13\n"
     ]
    }
   ],
   "source": [
    "n = int(input(\"Nhập số nguyên dương n: \"))"
   ]
  },
  {
   "cell_type": "code",
   "execution_count": 40,
   "id": "086ae733-2e60-436c-ad58-b982ef219d91",
   "metadata": {},
   "outputs": [
    {
     "name": "stdout",
     "output_type": "stream",
     "text": [
      "Tong:  91\n"
     ]
    }
   ],
   "source": [
    "if n <= 0:\n",
    "    print(\"Vui lòng nhập số nguyên dương > 0\")\n",
    "else:\n",
    "    tong = n * (n + 1) // 2 \n",
    "    print(\"Tong: \", tong)"
   ]
  },
  {
   "cell_type": "code",
   "execution_count": 42,
   "id": "95028ca3-d931-452b-9d28-2d990a6f8d77",
   "metadata": {},
   "outputs": [],
   "source": [
    "# bài 14 -----------------------------------------------------------------------------------------------------------------------------------------------"
   ]
  },
  {
   "cell_type": "code",
   "execution_count": 43,
   "id": "78ceb7b1-c73b-40ac-98a2-37a99bf34162",
   "metadata": {},
   "outputs": [
    {
     "name": "stdin",
     "output_type": "stream",
     "text": [
      "Nhập số nguyên a:  63\n",
      "Nhập số nguyên b:  36\n"
     ]
    }
   ],
   "source": [
    "a = int(input(\"Nhập số nguyên a: \"))\n",
    "b = int(input(\"Nhập số nguyên b: \"))\n",
    "\n",
    "tong = a + b\n",
    "hieu = a - b\n",
    "tich = a * b"
   ]
  },
  {
   "cell_type": "code",
   "execution_count": 44,
   "id": "856f7d2b-6521-4412-afb3-c41cc4bcc637",
   "metadata": {},
   "outputs": [],
   "source": [
    "if b != 0:\n",
    "    thuong = a / b\n",
    "    phan_du = a % b\n",
    "else:\n",
    "    thuong = \"Không xác định\"\n",
    "    phan_du = \"Không xác định\""
   ]
  },
  {
   "cell_type": "code",
   "execution_count": 47,
   "id": "d59b5538-876f-4e1c-bb33-1c39bbf2efaf",
   "metadata": {},
   "outputs": [],
   "source": [
    "if a > 0:\n",
    "    log_a = log10(a)\n",
    "else:\n",
    "    log_a = \"Không xác định (a ≤ 0)\"\n",
    "\n",
    "mu = a ** b"
   ]
  },
  {
   "cell_type": "code",
   "execution_count": 48,
   "id": "1a897c18-a489-4cf3-85ec-3d1b401f61b8",
   "metadata": {},
   "outputs": [
    {
     "name": "stdout",
     "output_type": "stream",
     "text": [
      "Tổng:  99\n",
      "Hiệu:  27\n",
      "Tích:  2268\n",
      "Thương:  1.75\n",
      "Phần dư:  27\n",
      "log10(a):  1.7993405494535817\n",
      "a^b:  59739251981165789319143185091465521335682061421948187270857578241\n"
     ]
    }
   ],
   "source": [
    "print(\"Tổng: \", tong)\n",
    "print(\"Hiệu: \", hieu)\n",
    "print(\"Tích: \", tich)\n",
    "print(\"Thương: \", thuong)\n",
    "print(\"Phần dư: \", phan_du)\n",
    "print(\"log10(a): \", log_a)\n",
    "print(\"a^b: \", mu)"
   ]
  },
  {
   "cell_type": "code",
   "execution_count": 49,
   "id": "6efda652-c59f-4acf-9cd5-44fc3b5a4980",
   "metadata": {},
   "outputs": [],
   "source": [
    "# bài 15 -----------------------------------------------------------------------------------------------------------------------------------------------"
   ]
  },
  {
   "cell_type": "code",
   "execution_count": 50,
   "id": "8f9475e8-fb22-40ff-848b-bcdbb1bd6416",
   "metadata": {},
   "outputs": [
    {
     "name": "stdin",
     "output_type": "stream",
     "text": [
      "Nhập khối lượng nước (gram):  1000\n",
      "Nhập độ thay đổi nhiệt độ ΔT (°C):  15\n"
     ]
    }
   ],
   "source": [
    "C = 4.186  \n",
    "\n",
    "M = float(input(\"Nhập khối lượng nước (gram): \"))\n",
    "delta_T = float(input(\"Nhập độ thay đổi nhiệt độ ΔT (°C): \"))"
   ]
  },
  {
   "cell_type": "code",
   "execution_count": 52,
   "id": "c3ee5be9-e510-479e-9907-9a762767f898",
   "metadata": {},
   "outputs": [],
   "source": [
    "Q = M * C * delta_T\n",
    "\n",
    "kWh = Q * 2.777 * e**(-7)\n",
    "\n",
    "cost = kWh * 8.9"
   ]
  },
  {
   "cell_type": "code",
   "execution_count": 54,
   "id": "201ae300-61ba-4d26-9e93-34b107581654",
   "metadata": {},
   "outputs": [
    {
     "name": "stdout",
     "output_type": "stream",
     "text": [
      "Năng lượng cần thiết:  62790.0 (Joules)\n",
      "Năng lượng cần thiết:  159.00287954987581 (kWh)\n",
      "Chi phí làm nóng:  1415.1256279938948 (cent)\n"
     ]
    }
   ],
   "source": [
    "print(\"Năng lượng cần thiết: \", Q, \"(Joules)\")\n",
    "print(\"Năng lượng cần thiết: \", kWh, \"(kWh)\")\n",
    "print(\"Chi phí làm nóng: \", cost, \"(cent)\")"
   ]
  },
  {
   "cell_type": "code",
   "execution_count": 55,
   "id": "18fccfd4-c8ac-46b5-be7b-fa99904b8beb",
   "metadata": {},
   "outputs": [],
   "source": [
    "# bài 16 -----------------------------------------------------------------------------------------------------------------------------------------------"
   ]
  },
  {
   "cell_type": "code",
   "execution_count": 56,
   "id": "d49c7ffc-efb7-4f78-ab89-10698e3b9b2a",
   "metadata": {},
   "outputs": [
    {
     "name": "stdin",
     "output_type": "stream",
     "text": [
      "Nhập chiều cao thả vật (m):  89\n"
     ]
    }
   ],
   "source": [
    "g = 9.8 \n",
    "\n",
    "d = float(input(\"Nhập chiều cao thả vật (m): \"))"
   ]
  },
  {
   "cell_type": "code",
   "execution_count": 57,
   "id": "ee7e6c52-7e1d-4db9-981f-a84d79a9894e",
   "metadata": {},
   "outputs": [
    {
     "name": "stdout",
     "output_type": "stream",
     "text": [
      "Tốc độ khi chạm đất:  41.76601489249364 m/s\n"
     ]
    }
   ],
   "source": [
    "v_final = sqrt(2 * g * d)\n",
    "\n",
    "print(\"Tốc độ khi chạm đất: \", v_final, \"m/s\")"
   ]
  },
  {
   "cell_type": "code",
   "execution_count": null,
   "id": "d25395d5-4c14-4702-ad4e-16a53a75b02f",
   "metadata": {},
   "outputs": [],
   "source": []
  }
 ],
 "metadata": {
  "kernelspec": {
   "display_name": "Python 3 (ipykernel)",
   "language": "python",
   "name": "python3"
  },
  "language_info": {
   "codemirror_mode": {
    "name": "ipython",
    "version": 3
   },
   "file_extension": ".py",
   "mimetype": "text/x-python",
   "name": "python",
   "nbconvert_exporter": "python",
   "pygments_lexer": "ipython3",
   "version": "3.13.5"
  }
 },
 "nbformat": 4,
 "nbformat_minor": 5
}
